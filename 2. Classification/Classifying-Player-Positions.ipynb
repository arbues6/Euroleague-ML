{
 "cells": [
  {
   "cell_type": "markdown",
   "metadata": {},
   "source": [
    "# Classifying Player Positions\n",
    "\n",
    "Once seen the main features of clustering, the next step is to switch from an unsupervised to a supervised domain, where we have labels that might be used (for instance) for classification purposes. In the example of shooters, the obtained clusters were not a gold standard that \"everyone\" is aware of; instead, if we have labelled data, we can build a model able to classify players' positions according to their corresponding true class: PG / SG / SF / PF / C. Although this 5 well-established positions doesn't seem to exist as such anymore, we can still build this model including data from previous years; besides, the performance of the testing process might be useful to indicate whether if these classes do or don't make sense. "
   ]
  },
  {
   "cell_type": "code",
   "execution_count": 18,
   "metadata": {},
   "outputs": [],
   "source": [
    "import pandas as pd\n",
    "import numpy as np\n",
    "from sklearn import svm"
   ]
  },
  {
   "cell_type": "markdown",
   "metadata": {},
   "source": [
    "### Data Preparation\n",
    "The first part, as always, includes data loading and filtering. In this example, we'll load a csv file containing individual player features (its computation is not included in the scope of this Notebook, but let me know if you are really interested); in particular, 10 features have been used to define each player: (1) 3-point Proficiency, (2) Offensive Load, (3) True Shooting percentage, (4) FTA/FGA, (5) Offensive and (6) Defensive Rebouding Percentage, (7) Assist Ratio, (8) Turnover Ratio, (9) Steal Ratio, and (10) (2FG/2FGA) of the opponent team. The latter is an experimental feature that attempts to provide the vector with a little bit more of detail of the player defensive impact.  \n",
    "Around 300 players from Euroleague teams (2016-2019) have been manually tagged. Note that a single label might correspond to different instances: there is one feature vector / player / season and a single label / player. "
   ]
  },
  {
   "cell_type": "code",
   "execution_count": 19,
   "metadata": {},
   "outputs": [],
   "source": [
    "sFolder = '/Users/arbues/Documents/UCAM/Euroleague-Notebooks/Data/'\n",
    "featureVecsPd = pd.read_csv(sFolder + \"FeatVecsIndSC.csv\",delimiter=';')\n",
    "featureVecs = featureVecsPd.iloc[:,1:].to_numpy()\n",
    "playerNames = featureVecsPd.iloc[:,0].to_numpy()\n",
    "\n",
    "# Get Pre-Tagged Labels\n",
    "labNames = np.load(sFolder + 'PBP2016-2018PlayersOut.npy')\n",
    "labNames = list(labNames)\n",
    "labPos = np.load(sFolder + 'PBP2016-2018PosOut.npy')"
   ]
  },
  {
   "cell_type": "markdown",
   "metadata": {},
   "source": [
    "Let's check an example of feature - position: "
   ]
  },
  {
   "cell_type": "code",
   "execution_count": 20,
   "metadata": {},
   "outputs": [
    {
     "name": "stdout",
     "output_type": "stream",
     "text": [
      "CLYBURN, WILL Position: 34\n",
      "CLYBURN, WILL Features: [0.3010413  0.31323683 0.56996035 0.45       0.10922787 0.59440559\n",
      " 0.05921185 0.02550024 0.01795332 0.53679654]\n"
     ]
    }
   ],
   "source": [
    "sPlayer = 'CLYBURN, WILL'\n",
    "sYear = '2018'\n",
    "sTeam = 'CSK'\n",
    "\n",
    "print(sPlayer + ' Position: ' + str(labPos[labNames.index(sPlayer)]))\n",
    "print(sPlayer + ' Features: ' + str(featureVecs[list(playerNames).index(sPlayer + ' ' + sYear + ' ' + sTeam)]))"
   ]
  },
  {
   "cell_type": "markdown",
   "metadata": {},
   "source": [
    "Uh, surprise, huh? What does position 34 mean? \n",
    "Since it was really difficult tagging the true position of these players, some of them have 2 numbers, thus indicating that they can switch positions easily. However, at the moment, we'll stick to the basics and just keep the first position / player; besides, since there were wrongly annotated players (with a question mark), some filtering is appreciated. "
   ]
  },
  {
   "cell_type": "code",
   "execution_count": 21,
   "metadata": {},
   "outputs": [],
   "source": [
    "featVecsFin = []\n",
    "namesFin = []\n",
    "labelsFin = []\n",
    "\n",
    "# Filter untagged players (label '?')\n",
    "for iP in range(0, len(playerNames)):\n",
    "    play = playerNames[iP].split('2')[0][:-1]\n",
    "    if play in labNames:\n",
    "        if labPos[labNames.index(play)][0] != '?':\n",
    "            featVecsFin.append(featureVecs[iP])\n",
    "            namesFin.append(playerNames[iP])\n",
    "            # Some players have two labels (e.g. '21'), but we'll only load the first (main) position\n",
    "            labelsFin.append(int(labPos[labNames.index(play)][0])) "
   ]
  },
  {
   "cell_type": "markdown",
   "metadata": {},
   "source": [
    "Once filtered, we could already train our model, but first, we'll sort randomly the obtained feature vectors and split the dataset into train and test, which is a must in order to double-check that there's no overfitting in the training process. This means that, when training the model, around 80% of the instances will be shown to the classifier, but in order to test its accuracy, the remaining 20% will be used. If you didn't get a thing while reading this paragraph, I suggest you to browse the internet and read some related literature (like Bishop's PR book introduction)."
   ]
  },
  {
   "cell_type": "code",
   "execution_count": 22,
   "metadata": {},
   "outputs": [],
   "source": [
    "# Create the shuffler\n",
    "posAux = np.arange(len(labelsFin))\n",
    "np.random.shuffle(posAux)\n",
    "# Shuffle the entire dataset\n",
    "featVecsFin = np.array(featVecsFin)[posAux]\n",
    "namesFin = np.array(namesFin)[posAux]\n",
    "labelsFin = np.array(labelsFin)[posAux]\n",
    "# Splitting\n",
    "pTrain = 0.8\n",
    "posTrain = int(pTrain*len(namesFin))\n",
    "# Split into train and test (both stats and labels)\n",
    "featVecs_train = featVecsFin[:posTrain]\n",
    "featVecs_test = featVecsFin[posTrain:]\n",
    "\n",
    "labels_train = labelsFin[:posTrain]\n",
    "labels_test = labelsFin[posTrain:]\n",
    "names_test = namesFin[posTrain:]"
   ]
  },
  {
   "cell_type": "markdown",
   "metadata": {},
   "source": [
    "### Classification - Train\n",
    "We're ready to classify! Scikit-learn has a bunch of possible classifiers to be used in this kind of scenario (https://scikit-learn.org/stable/auto_examples/classification/plot_classifier_comparison.html); I will stick to Support Vector Machines, which solves binary classification problems geometrically by finding the hyperplane that maximizes the margin between classes (as much as possible). "
   ]
  },
  {
   "cell_type": "code",
   "execution_count": 23,
   "metadata": {},
   "outputs": [
    {
     "data": {
      "text/plain": [
       "SVC()"
      ]
     },
     "execution_count": 23,
     "metadata": {},
     "output_type": "execute_result"
    }
   ],
   "source": [
    "# Classifier\n",
    "clf = svm.SVC()\n",
    "# Train\n",
    "clf.fit(featVecs_train, labels_train)"
   ]
  },
  {
   "cell_type": "markdown",
   "metadata": {},
   "source": [
    "### Classification - Test"
   ]
  },
  {
   "cell_type": "code",
   "execution_count": 24,
   "metadata": {},
   "outputs": [
    {
     "name": "stdout",
     "output_type": "stream",
     "text": [
      "GIST, JAMES 2010 PAR - Predicted: 3, Real: 4\n",
      "VILDOZA, LUCA 2018 BAS - Predicted: 2, Real: 1\n",
      "SMITH, DEVIN 2011 TEL - Predicted: 4, Real: 3\n",
      "RUDD, VICTOR 2016 TEL - Predicted: 3, Real: 4\n",
      "KURBANOV, NIKITA 2019 CSK - Predicted: 4, Real: 3\n",
      "KALINIC, NIKOLA 2015 ULK - Predicted: 4, Real: 3\n",
      "WANAMAKER, BRAD 2017 ULK - Predicted: 2, Real: 1\n",
      "GIST, JAMES 2018 PAN - Predicted: 3, Real: 4\n",
      "KUZMINSKAS, MINDAUGAS 2017 MIL - Predicted: 2, Real: 3\n",
      "SPANOULIS, VASSILIS 2019 OLY - Predicted: 1, Real: 2\n",
      "JAMES, MIKE 2017 PAN - Predicted: 2, Real: 1\n",
      "LLULL, SERGIO 2009 MAD - Predicted: 2, Real: 1\n",
      "COLE, NORRIS 2017 TEL - Predicted: 1, Real: 2\n",
      "SAN EMETERIO, FERNANDO 2009 BAS - Predicted: 2, Real: 3\n",
      "CARROLL, JAYCEE 2012 MAD - Predicted: 3, Real: 2\n",
      "SUAREZ, CARLOS 2017 MAL - Predicted: 3, Real: 4\n",
      "SCHILB, BLAKE 2016 GAL - Predicted: 1, Real: 3\n",
      "MILLER, DARIUS 2016 BAM - Predicted: 2, Real: 4\n",
      "PNINI, GUY 2013 TEL - Predicted: 2, Real: 3\n",
      "BLAZIC, JAKA 2014 RED - Predicted: 2, Real: 3\n",
      "GIST, JAMES 2012 PAN - Predicted: 3, Real: 4\n",
      "KURBANOV, NIKITA 2017 CSK - Predicted: 4, Real: 3\n",
      "LEDAY, ZACH 2019 ZAL - Predicted: 4, Real: 5\n",
      "PLEISS, TIBOR 2018 IST - Predicted: 4, Real: 5\n",
      "DECK, GABRIEL 2019 MAD - Predicted: 4, Real: 3\n",
      "BANIC, MARKO 2011 BIL - Predicted: 5, Real: 4\n",
      "PANGOS, KEVIN 2016 ZAL - Predicted: 2, Real: 1\n",
      "LUCIC, VLADIMIR 2019 MUN - Predicted: 4, Real: 3\n",
      "WEEMS, SONNY 2011 ZAL - Predicted: 4, Real: 3\n",
      "STRELNIEKS, JANIS 2016 BAM - Predicted: 2, Real: 1\n",
      "JENKINS, CHARLES 2018 KHI - Predicted: 3, Real: 2\n",
      "VESELY, JAN 2017 ULK - Predicted: 5, Real: 4\n",
      "GRANGER, JAYSON 2015 IST - Predicted: 2, Real: 1\n",
      "JAMES, MIKE 2018 MIL - Predicted: 2, Real: 1\n",
      "DIAZ, ALBERTO 2017 MAL - Predicted: 2, Real: 1\n",
      "DEDOVIC, NIHAD 2019 MUN - Predicted: 2, Real: 3\n",
      "PNINI, GUY 2010 TEL - Predicted: 2, Real: 3\n",
      "MELLI, NICOLO 2018 ULK - Predicted: 3, Real: 4\n",
      "PETERS, ALEC 2018 CSK - Predicted: 3, Real: 4\n",
      "THOMAS, DESHAUN 2017 TEL - Predicted: 2, Real: 3\n",
      "TAYLOR, JEFFERY 2017 MAD - Predicted: 2, Real: 3\n",
      "WEEMS, SONNY 2012 CSK - Predicted: 2, Real: 3\n",
      "JAMES, MIKE 2019 CSK - Predicted: 2, Real: 1\n",
      "SAN EMETERIO, FERNANDO 2010 BAS - Predicted: 4, Real: 3\n",
      "MOTUM, BROCK 2018 IST - Predicted: 2, Real: 4\n",
      "MOTUM, BROCK 2017 IST - Predicted: 3, Real: 4\n",
      "SMITH, DEVIN 2012 TEL - Predicted: 2, Real: 3\n",
      "LOJESKI, MATT 2018 PAN - Predicted: 3, Real: 2\n",
      "HILLIARD, DARRUN 2018 BAS - Predicted: 3, Real: 2\n",
      "TEODOSIC, MILOS 2007 OLY - Predicted: 2, Real: 1\n",
      "WALKUP, THOMAS 2019 ZAL - Predicted: 1, Real: 2\n",
      "-----------------\n",
      "Binary Classification Performance: 0.6946107784431138\n",
      "[[24.  3.  1.  0.  0.]\n",
      " [11. 33. 10.  2.  0.]\n",
      " [ 0.  4. 10.  8.  0.]\n",
      " [ 0.  0.  8. 26.  2.]\n",
      " [ 0.  0.  0.  2. 23.]]\n"
     ]
    }
   ],
   "source": [
    "# Test and print accuracy + confusion matrix\n",
    "iCorrect = 0\n",
    "# Initialize Confusion Matrix\n",
    "confMat = np.zeros((len(np.unique(labels_test)),len(np.unique(labels_test))))\n",
    "allPreds = []\n",
    "for iTest in range(0, len(featVecs_test)):\n",
    "    # Predict for new test sample\n",
    "    pred = clf.predict([featVecs_test[iTest]])\n",
    "    # Append for posterior visualization\n",
    "    allPreds.append(pred[0])\n",
    "    # Add together correct samples\n",
    "    if pred[0] == labels_test[iTest]:\n",
    "        iCorrect += 1\n",
    "    else:\n",
    "        # Print failure cases\n",
    "        print(str(names_test[iTest]) + ' - Predicted: ' + str(pred[0]) + ', Real: ' + str(labels_test[iTest]))\n",
    "    # Fill confusion matrix\n",
    "    confMat[pred[0]-1, labels_test[iTest]-1] = confMat[pred[0]-1, labels_test[iTest]-1] + 1\n",
    "# Print performance\n",
    "print('-----------------')\n",
    "print('Binary Classification Performance: ' + str(iCorrect/len(labels_test)))\n",
    "print(confMat)"
   ]
  },
  {
   "cell_type": "markdown",
   "metadata": {},
   "source": [
    "### Visualization\n",
    "Although ~0.65 doesn't seem to be the best model ever... Have you checked the failure cases? As we were talking about before, (e.g.) Clyburn is a player that could be tagged as a 3 or as a 4, so... Is the model performing poorly? Not for me! When building Machine Learning models, sometimes you don't need to have the best accuracy in a tuned model with hundreds of hyperparameters; instead, sometimes it is worth thinking about the intrinsic details of the given classes and recognize the failure patterns. \n",
    "\n",
    "Finally, we can again visualize results in a 2D space by using Principal Component Analysis. This time the color (tags) belong to the true player position class. "
   ]
  },
  {
   "cell_type": "code",
   "execution_count": 25,
   "metadata": {},
   "outputs": [
    {
     "data": {
      "image/png": "[encoded data removed]",
      "text/plain": [
       "<Figure size 432x288 with 1 Axes>"
      ]
     },
     "metadata": {
      "needs_background": "light"
     },
     "output_type": "display_data"
    }
   ],
   "source": [
    "# Visualize\n",
    "from sklearn.decomposition import PCA\n",
    "import matplotlib.pyplot as plt\n",
    "\n",
    "pca = PCA(n_components=2)\n",
    "principalComponents = pca.fit_transform(featVecs_test)\n",
    "\n",
    "colormaps = [\"red\", \"orange\", \"yellow\", \"green\", \"blue\", \"black\", 'lightgreen','dodgerblue','navy','mediumpurple','pink','hotpink','oldlace','aqua','slategrey','palegreen','m','indianred','orchid']\n",
    "posS = ['PG','SG','SF','PF','C']\n",
    "    \n",
    "allPreds = np.array(allPreds)\n",
    "for iPos in range(0, 5):\n",
    "    plt.scatter(principalComponents[allPreds == (iPos+1), 0], principalComponents[allPreds == (iPos+1), 1], s=50, c=colormaps[iPos],  label=posS[iPos])\n",
    "    \n",
    "plt.legend(scatterpoints=1, loc='best')\n",
    "plt.grid()\n",
    "plt.show()"
   ]
  },
  {
   "cell_type": "markdown",
   "metadata": {},
   "source": [
    "Hope you liked it! \n",
    "If you have any questions / suggestions, feel free to send me an email (adria.arbues@upf.edu) or a Twitter DM (@arbues6). "
   ]
  }
 ],
 "metadata": {
  "kernelspec": {
   "display_name": "Python 3",
   "language": "python",
   "name": "python3"
  },
  "language_info": {
   "codemirror_mode": {
    "name": "ipython",
    "version": 3
   },
   "file_extension": ".py",
   "mimetype": "text/x-python",
   "name": "python",
   "nbconvert_exporter": "python",
   "pygments_lexer": "ipython3",
   "version": "3.7.6"
  }
 },
 "nbformat": 4,
 "nbformat_minor": 4
}
