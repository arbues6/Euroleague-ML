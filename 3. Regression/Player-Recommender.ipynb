{
 "cells": [
  {
   "cell_type": "markdown",
   "metadata": {},
   "source": [
    "# Player Recommender\n",
    "Hi there! This Notebook is an extension of \"Predicting-Lineup-Performance\" so please make sure you understood its main concepts before getting started. \n",
    "In this small tutorial, we'll how can we use the previously trained models to suggest specific players for a given scenario, thus creating a simple tool that might be used in the hiring process when building a competitive roster. \n",
    "\n",
    "### Data Preparation\n",
    "As always, the first step is to load all required data: in particular, we'll use the matrix of individual 1x10 feature vectors and the pre-trained models (pkl files, one model per stat and per combination). Note as well that, if we want to check who is the ideal player when fitting in a lineup of N players, we have to load the model trained for N+1 players. "
   ]
  },
  {
   "cell_type": "code",
   "execution_count": 5,
   "metadata": {},
   "outputs": [],
   "source": [
    "import numpy as np\n",
    "import pickle"
   ]
  },
  {
   "cell_type": "code",
   "execution_count": 6,
   "metadata": {},
   "outputs": [],
   "source": [
    "nPlayers = 3\n",
    "sFolder = '/Users/arbues/Documents/UCAM/Euroleague-Notebooks/Data/'\n",
    "# Load Feature Vectors + Corresponding Names\n",
    "matAdvStats = np.load(sFolder + \"Lineup-Combos/FeatVecsFin.npy\", allow_pickle=True)\n",
    "matNames = np.load(sFolder + \"Lineup-Combos/MatNamesFin.npy\", allow_pickle=True)\n",
    "# Get rid of team strings\n",
    "matNames = [x[:-4] for x in matNames]\n",
    "matNames = list(matNames)\n",
    "\n",
    "# Load the Model of the desired Stat\n",
    "statString = 'OER'\n",
    "mName = sFolder + 'Models/' + statString + str(nPlayers+1) + '.pkl'\n",
    "with open(mName, 'rb') as file:\n",
    "    model = pickle.load(file)"
   ]
  },
  {
   "cell_type": "markdown",
   "metadata": {},
   "source": [
    "As we did in the Regression Notebook, the first step is find the feature vectors belonging to each player in the lineup; however, we are still not concatenating them into a single one... You'll see why in a bit! "
   ]
  },
  {
   "cell_type": "code",
   "execution_count": 7,
   "metadata": {},
   "outputs": [],
   "source": [
    "# Build the feature vector for any lineup\n",
    "featVecsi = []\n",
    "offLoad = []\n",
    "\n",
    "nameLineup = ''\n",
    "for i in range(0, nPlayers):\n",
    "    # Introduce the desired players\n",
    "    if i == 0:\n",
    "        name = 'PANGOS, KEVIN'\n",
    "        year = '2017'\n",
    "    elif i == 1:\n",
    "        name = 'HOLLINS, AUSTIN'\n",
    "        year = '2019'\n",
    "    elif i == 2:\n",
    "        name = 'THOMAS, WILL'\n",
    "        year = '2019'\n",
    "    elif i == 3:\n",
    "        name = 'PONITKA, MATEUSZ'\n",
    "        year = '2019'\n",
    "    nameLineup = nameLineup + name + '(' + year + ')' + ' / '\n",
    "    # Find stats\n",
    "    statsPlay = matAdvStats[matNames.index(name + ' ' + year)]\n",
    "    featVecsi.append(statsPlay)"
   ]
  },
  {
   "cell_type": "markdown",
   "metadata": {},
   "source": [
    "### Predictive Model - Test\n",
    "Although it is a brute-force-based test, in order to find the appropriate player to fit in a particular lineup we are gonna predict the desired stat for every single possibility. Once again, before concatenating, we will sort the individual feature vectors in terms of the carried offensive load / player, thus mantaining the same procedure we followed when training the model. \n",
    "Once all predictions have been appended in one same vector, we can sort them according to the predicted value and print the best possible candidates... Easy peasy lemon squeezy!"
   ]
  },
  {
   "cell_type": "code",
   "execution_count": 8,
   "metadata": {},
   "outputs": [
    {
     "name": "stdout",
     "output_type": "stream",
     "text": [
      "1. MILUTINOV, NIKOLA 2019 - 132.15284257333855\n",
      "2. TARCZEWSKI, KALEB 2017 - 131.0030207944336\n",
      "3. LARKIN, SHANE 2019 - 130.90427007047003\n",
      "4. MUHAMMED, ALI 2018 - 130.27235987493296\n",
      "5. SINGLETON, CHRIS 2017 - 130.11092382364967\n",
      "6. PUNTER, KEVIN 2019 - 130.03392532864456\n",
      "7. JOVIC, STEFAN 2019 - 129.8571186940606\n",
      "8. NUNNALLY, JAMES 2017 - 129.83470577506762\n",
      "9. TAVARES, WALTER 2018 - 129.77545675295215\n",
      "10. MAHMUTOGLU, MELIH 2018 - 129.65451545706662\n",
      "11. GUDAITIS, ARTURAS 2018 - 129.49625358507467\n",
      "12. GUDURIC, MARKO 2018 - 129.31851437750262\n",
      "13. ULANOVAS, EDGARAS 2017 - 129.28981766404115\n",
      "14. VOIGTMANN, JOHANNES 2017 - 129.21018645577044\n",
      "15. TAVARES, WALTER 2017 - 129.1339784854256\n",
      "16. MARTINEZ, RAFA 2017 - 128.6107743976535\n",
      "17. GILL, ANTHONY 2017 - 128.58651652142748\n",
      "18. MILUTINOV, NIKOLA 2017 - 128.58147430063588\n",
      "19. GUDURIC, MARKO 2017 - 128.44443105099847\n",
      "20. WACZYNSKI, ADAM 2017 - 128.34473633721842\n"
     ]
    }
   ],
   "source": [
    "predictions = []\n",
    "for iP in range(0, len(matNames)):\n",
    "    # Since we are gonna sort by offensive load, we ensure to use the original feature vector\n",
    "    featVecsiC = list(np.copy(featVecsi))\n",
    "    # For a new player, search stats and append them\n",
    "    statsPlay = matAdvStats[iP]\n",
    "    featVecsiC.append(statsPlay)\n",
    "    # Sort by offensive load\n",
    "    offLoad = np.array(featVecsiC)[:,1]\n",
    "    sortOr = np.argsort(offLoad)[::-1]\n",
    "    # Build new final vector\n",
    "    featVecs = np.zeros(((nPlayers+1) * 10,))\n",
    "    for iP in range(0, nPlayers+1):\n",
    "        featVecs[iP * 10:(iP + 1) * 10] = featVecsiC[sortOr[iP]]\n",
    "    # Predict performance for each possible player and append it\n",
    "    pred = model.predict(featVecs.reshape(1, -1))\n",
    "    predictions.append(pred[0])\n",
    "\n",
    "# Sort names and stats\n",
    "predictions, matNames = zip(*sorted(zip(predictions,matNames)))\n",
    "# Ensure not to mess up with defense (the lower, the better)\n",
    "if statString != 'DER':\n",
    "    predictions = predictions[::-1]\n",
    "    matNames = matNames[::-1]\n",
    "\n",
    "# Print best fits (minYear might be used to limit the potential options only to active players)\n",
    "iShow = 0\n",
    "minYear = 2016 # 0\n",
    "while iShow < 20: # Limited to show 20 options, feel free to change it\n",
    "    if int(matNames[iP][-4:]) > minYear:\n",
    "        print(str(iShow+1) + '. ' + matNames[iP] + ' - ' + str(predictions[iP]))\n",
    "        iP += 1\n",
    "        iShow += 1\n",
    "    else:\n",
    "        iP += 1"
   ]
  },
  {
   "cell_type": "markdown",
   "metadata": {},
   "source": [
    "Hope you liked it! \n",
    "If you have any questions / suggestions, feel free to send me an email (adria.arbues@upf.edu) or a Twitter DM (@arbues6). "
   ]
  }
 ],
 "metadata": {
  "kernelspec": {
   "display_name": "Python 3",
   "language": "python",
   "name": "python3"
  },
  "language_info": {
   "codemirror_mode": {
    "name": "ipython",
    "version": 3
   },
   "file_extension": ".py",
   "mimetype": "text/x-python",
   "name": "python",
   "nbconvert_exporter": "python",
   "pygments_lexer": "ipython3",
   "version": "3.7.6"
  }
 },
 "nbformat": 4,
 "nbformat_minor": 4
}
